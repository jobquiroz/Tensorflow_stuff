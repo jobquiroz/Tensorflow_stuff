{
 "cells": [
  {
   "cell_type": "markdown",
   "id": "74edc3ad-5164-4ee9-abee-35939a439982",
   "metadata": {},
   "source": [
    "## Multivariate Distributions"
   ]
  },
  {
   "cell_type": "code",
   "execution_count": 1,
   "id": "f6e229c0-9f66-4fed-8507-92f19b079c79",
   "metadata": {},
   "outputs": [],
   "source": [
    "import tensorflow as tf\n",
    "import matplotlib.pyplot as plt\n",
    "import tensorflow_probability as tfp\n",
    "tfd = tfp.distributions"
   ]
  },
  {
   "cell_type": "code",
   "execution_count": 3,
   "id": "0c4bfdba-e1bb-4d20-a0b0-30b45d97689a",
   "metadata": {},
   "outputs": [
    {
     "name": "stdout",
     "output_type": "stream",
     "text": [
      "tfp.distributions.MultivariateNormalDiag(\"MultivariateNormalDiag\", batch_shape=[], event_shape=[2], dtype=float32)\n"
     ]
    }
   ],
   "source": [
    "mv_normal = tfd.MultivariateNormalDiag(loc = [-1, 0.5], scale_diag = [1., 1.5])\n",
    "\n",
    "print(mv_normal)"
   ]
  },
  {
   "cell_type": "code",
   "execution_count": 4,
   "id": "0c457564-d17e-4e2e-bf2f-fc79e18171b8",
   "metadata": {},
   "outputs": [
    {
     "data": {
      "text/plain": [
       "TensorShape([2])"
      ]
     },
     "execution_count": 4,
     "metadata": {},
     "output_type": "execute_result"
    }
   ],
   "source": [
    "mv_normal.event_shape"
   ]
  },
  {
   "cell_type": "markdown",
   "id": "4f204a6d-3928-44a8-898a-0577e28c38d9",
   "metadata": {},
   "source": [
    "Sampling"
   ]
  },
  {
   "cell_type": "code",
   "execution_count": 5,
   "id": "7167406f-1040-4dee-b424-b7c3645c015d",
   "metadata": {},
   "outputs": [
    {
     "data": {
      "text/plain": [
       "<tf.Tensor: shape=(3, 2), dtype=float32, numpy=\n",
       "array([[ 1.8327935 ,  1.9683203 ],\n",
       "       [ 0.7831279 , -0.625597  ],\n",
       "       [-2.979981  ,  0.45271784]], dtype=float32)>"
      ]
     },
     "execution_count": 5,
     "metadata": {},
     "output_type": "execute_result"
    }
   ],
   "source": [
    "mv_normal.sample(3)"
   ]
  },
  {
   "cell_type": "code",
   "execution_count": 6,
   "id": "907473b5-2614-4ba9-8031-edb5925e9d4a",
   "metadata": {},
   "outputs": [
    {
     "name": "stdout",
     "output_type": "stream",
     "text": [
      "tfp.distributions.Normal(\"Normal\", batch_shape=[2], event_shape=[], dtype=float32)\n"
     ]
    }
   ],
   "source": [
    "batched_normal = tfd.Normal(loc = [-1, 0.5], scale = [1., 1.5])\n",
    "print(batched_normal)"
   ]
  },
  {
   "cell_type": "code",
   "execution_count": 7,
   "id": "253c7b6a-20d8-4198-abbe-44f73982be93",
   "metadata": {},
   "outputs": [
    {
     "data": {
      "text/plain": [
       "<tf.Tensor: shape=(3, 2), dtype=float32, numpy=\n",
       "array([[ 1.2811091 ,  0.43381077],\n",
       "       [-0.89696217,  0.8750274 ],\n",
       "       [-0.41626608,  1.751637  ]], dtype=float32)>"
      ]
     },
     "execution_count": 7,
     "metadata": {},
     "output_type": "execute_result"
    }
   ],
   "source": [
    "batched_normal.sample(3)"
   ]
  },
  {
   "cell_type": "markdown",
   "id": "bd8e4ba7-1e00-4400-8095-14068800ab4a",
   "metadata": {},
   "source": [
    "Batch_shape is different from event_shape:"
   ]
  },
  {
   "cell_type": "code",
   "execution_count": 8,
   "id": "6c92f53d-ddf9-426e-8767-2151ef3ad9f2",
   "metadata": {},
   "outputs": [
    {
     "data": {
      "text/plain": [
       "<tf.Tensor: shape=(), dtype=float32, numpy=-2.9388978>"
      ]
     },
     "execution_count": 8,
     "metadata": {},
     "output_type": "execute_result"
    }
   ],
   "source": [
    "mv_normal.log_prob([-0.2, 1.8])"
   ]
  },
  {
   "cell_type": "code",
   "execution_count": 9,
   "id": "e7f92433-8908-4e6c-80d2-349fc24f1ae9",
   "metadata": {},
   "outputs": [
    {
     "data": {
      "text/plain": [
       "<tf.Tensor: shape=(2,), dtype=float32, numpy=array([-1.2389386, -1.699959 ], dtype=float32)>"
      ]
     },
     "execution_count": 9,
     "metadata": {},
     "output_type": "execute_result"
    }
   ],
   "source": [
    "batched_normal.log_prob([-0.2, 1.8])"
   ]
  },
  {
   "cell_type": "markdown",
   "id": "9e72a94b-6d11-408f-a627-8ec7937b945a",
   "metadata": {},
   "source": [
    "Batched multivariate distribution"
   ]
  },
  {
   "cell_type": "code",
   "execution_count": 11,
   "id": "83e4b7a3-c671-4d9d-8155-9f136e091a54",
   "metadata": {},
   "outputs": [
    {
     "data": {
      "text/plain": [
       "<tfp.distributions.MultivariateNormalDiag 'MultivariateNormalDiag' batch_shape=[3] event_shape=[2] dtype=float32>"
      ]
     },
     "execution_count": 11,
     "metadata": {},
     "output_type": "execute_result"
    }
   ],
   "source": [
    "batched_mv_normal = tfd.MultivariateNormalDiag(\n",
    "    loc = [[-1, 0.5], [2., 0.], [-0.5, 1.5]],\n",
    "    scale_diag = [[1., 1.5], [2., 0.5], [1., 1.]])\n",
    "\n",
    "batched_mv_normal  # batch = 3 --> 3 distributions    event = 2 --> Two-dimensional random variable"
   ]
  },
  {
   "cell_type": "code",
   "execution_count": 13,
   "id": "8567e175-4035-449b-bd45-ce56ecafd48a",
   "metadata": {},
   "outputs": [
    {
     "data": {
      "text/plain": [
       "<tf.Tensor: shape=(2, 3, 2), dtype=float32, numpy=\n",
       "array([[[-1.4606912 ,  0.9474258 ],\n",
       "        [-0.61074996, -0.22227909],\n",
       "        [ 0.48927408,  2.3344924 ]],\n",
       "\n",
       "       [[-1.2400165 , -1.3873723 ],\n",
       "        [ 1.3516192 ,  0.20085458],\n",
       "        [ 0.48032063,  2.7704496 ]]], dtype=float32)>"
      ]
     },
     "execution_count": 13,
     "metadata": {},
     "output_type": "execute_result"
    }
   ],
   "source": [
    "batched_mv_normal.sample(2)    # (2 sample, 3 batch_size, 2 event_size)"
   ]
  },
  {
   "cell_type": "code",
   "execution_count": null,
   "id": "8028ac39-233b-4d40-8481-74834fea0c13",
   "metadata": {},
   "outputs": [],
   "source": []
  },
  {
   "cell_type": "markdown",
   "id": "1f1cd863-67a1-477a-83be-b189f4942041",
   "metadata": {},
   "source": [
    "## Coding session"
   ]
  },
  {
   "cell_type": "markdown",
   "id": "48b91f76-239a-40bf-ad70-2937f4fdcc83",
   "metadata": {},
   "source": [
    "### Basic multivariate distributions"
   ]
  },
  {
   "cell_type": "code",
   "execution_count": 15,
   "id": "3945cada-dfc5-4e0f-bd20-b853b8ab5d2e",
   "metadata": {},
   "outputs": [
    {
     "data": {
      "text/plain": [
       "<tfp.distributions.MultivariateNormalDiag 'MultivariateNormalDiag' batch_shape=[] event_shape=[2] dtype=float32>"
      ]
     },
     "execution_count": 15,
     "metadata": {},
     "output_type": "execute_result"
    }
   ],
   "source": [
    "# Define 2D multivariate Gaussian with diagonal covariance matrix\n",
    "\n",
    "normal_diag = tfd.MultivariateNormalDiag(loc = [0, 1], scale_diag = [1,2])\n",
    "normal_diag"
   ]
  },
  {
   "cell_type": "code",
   "execution_count": 16,
   "id": "6d8775f5-ef5d-46d6-83ee-1a4db46e5663",
   "metadata": {},
   "outputs": [
    {
     "data": {
      "text/plain": [
       "<tf.Tensor: shape=(10, 2), dtype=float32, numpy=\n",
       "array([[ 1.3062586 ,  3.2496915 ],\n",
       "       [-2.5045485 ,  2.3949807 ],\n",
       "       [ 3.2347667 , -2.4585545 ],\n",
       "       [ 0.72856104, -0.32016528],\n",
       "       [ 1.9036446 ,  3.7569973 ],\n",
       "       [ 1.5111303 ,  2.4688911 ],\n",
       "       [-0.12147224,  0.59797835],\n",
       "       [ 1.7658144 , -0.503742  ],\n",
       "       [ 0.7126586 ,  1.3754282 ],\n",
       "       [ 0.20624954,  0.6085667 ]], dtype=float32)>"
      ]
     },
     "execution_count": 16,
     "metadata": {},
     "output_type": "execute_result"
    }
   ],
   "source": [
    "# Sample from it\n",
    "normal_diag.sample(10)"
   ]
  },
  {
   "cell_type": "code",
   "execution_count": 17,
   "id": "054c4438-0f8d-456a-9495-33678288f578",
   "metadata": {},
   "outputs": [
    {
     "data": {
      "image/png": "[encoded data removed]",
      "text/plain": [
       "<Figure size 432x288 with 1 Axes>"
      ]
     },
     "metadata": {
      "needs_background": "light"
     },
     "output_type": "display_data"
    }
   ],
   "source": [
    "# Make a plot\n",
    "\n",
    "plt_sample = normal_diag.sample(10000)\n",
    "plt.scatter(plt_sample[:, 0], plt_sample[:, 1], marker = '.', alpha = 0.05)\n",
    "plt.axis('equal')\n",
    "plt.show()"
   ]
  },
  {
   "cell_type": "markdown",
   "id": "29a5f84c-d7ee-4e98-99fe-86d806b9b9c5",
   "metadata": {},
   "source": [
    "### Batches of multivariate distributions"
   ]
  },
  {
   "cell_type": "code",
   "execution_count": 18,
   "id": "fb14aafb-7ba2-47cb-ba9b-0d443fb3de43",
   "metadata": {},
   "outputs": [
    {
     "data": {
      "text/plain": [
       "<tfp.distributions.MultivariateNormalDiag 'MultivariateNormalDiag' batch_shape=[3] event_shape=[2] dtype=float32>"
      ]
     },
     "execution_count": 18,
     "metadata": {},
     "output_type": "execute_result"
    }
   ],
   "source": [
    "# Create three \"batches\" of multivariate normals\n",
    "\n",
    "normal_diag_batch = tfd.MultivariateNormalDiag(loc = [[0, 0], [0,0], [0,0]], scale_diag = [[1,2],[2,1],[2,2]])\n",
    "\n",
    "normal_diag_batch"
   ]
  },
  {
   "cell_type": "code",
   "execution_count": 19,
   "id": "f62a88e3-9119-4659-89cc-a508407a663f",
   "metadata": {},
   "outputs": [
    {
     "data": {
      "text/plain": [
       "<tf.Tensor: shape=(5, 3, 2), dtype=float32, numpy=\n",
       "array([[[ 2.6812108 ,  1.8594066 ],\n",
       "        [-1.1962218 , -0.42201495],\n",
       "        [-0.48786888,  1.2403944 ]],\n",
       "\n",
       "       [[ 0.5197988 , -3.5582078 ],\n",
       "        [-0.521346  ,  0.5000226 ],\n",
       "        [ 1.223559  , -0.08173308]],\n",
       "\n",
       "       [[ 1.6155356 ,  2.1331384 ],\n",
       "        [-4.3776174 ,  0.5475175 ],\n",
       "        [-0.3616539 , -0.88556385]],\n",
       "\n",
       "       [[ 1.0964862 ,  0.36878383],\n",
       "        [-4.5660334 ,  0.02980305],\n",
       "        [-0.38421258,  4.4412923 ]],\n",
       "\n",
       "       [[ 0.3965163 ,  0.7735952 ],\n",
       "        [-0.57003355, -0.87532896],\n",
       "        [ 1.7486202 , -0.8411752 ]]], dtype=float32)>"
      ]
     },
     "execution_count": 19,
     "metadata": {},
     "output_type": "execute_result"
    }
   ],
   "source": [
    "# Sample from it\n",
    "samples = normal_diag_batch.sample(5)\n",
    "samples"
   ]
  },
  {
   "cell_type": "code",
   "execution_count": 22,
   "id": "a0e6df71-dd0b-43cf-b3bf-28d1d63f2065",
   "metadata": {},
   "outputs": [
    {
     "data": {
      "text/plain": [
       "<tf.Tensor: shape=(5, 3), dtype=float32, numpy=\n",
       "array([[-6.5576434, -2.7989407, -3.4462457],\n",
       "       [-4.248725 , -2.6900108, -3.4121437],\n",
       "       [-4.4047866, -5.0763535, -3.3385487],\n",
       "       [-3.1491654, -5.137551 , -5.708258 ],\n",
       "       [-2.684443 , -2.954742 , -3.6948276]], dtype=float32)>"
      ]
     },
     "execution_count": 22,
     "metadata": {},
     "output_type": "execute_result"
    }
   ],
   "source": [
    "# Comput log probs\n",
    "normal_diag_batch.log_prob(samples)"
   ]
  },
  {
   "cell_type": "code",
   "execution_count": 23,
   "id": "f00470ae-4c84-4a0b-bf1f-979c3092b021",
   "metadata": {},
   "outputs": [
    {
     "data": {
      "text/plain": [
       "TensorShape([10000, 3, 2])"
      ]
     },
     "execution_count": 23,
     "metadata": {},
     "output_type": "execute_result"
    }
   ],
   "source": [
    "# Create a sample for a plot -- notice the shape\n",
    "\n",
    "plt_sample_batch = normal_diag_batch.sample(10000)\n",
    "plt_sample_batch.shape"
   ]
  },
  {
   "cell_type": "code",
   "execution_count": 26,
   "id": "60bb0413-3368-4729-85b7-1627ffed9a25",
   "metadata": {},
   "outputs": [
    {
     "data": {
      "image/png": "[encoded data removed]",
      "text/plain": [
       "<Figure size 720x216 with 3 Axes>"
      ]
     },
     "metadata": {
      "needs_background": "light"
     },
     "output_type": "display_data"
    }
   ],
   "source": [
    "# Plot samples from the batched multivariate Gaussian\n",
    "\n",
    "fig, axs = plt.subplots(1,3,sharex = True, sharey=True, figsize=(10,3))\n",
    "titles = ['cov_diag=[1,2]', 'cov_diag=[2,1]', 'cov_diag=[2,2]']\n",
    "\n",
    "for i, (ax,title) in enumerate(zip(axs,titles)):\n",
    "    samples = plt_sample_batch[:, i, :]  # take the ith batch [samples x event_shape]\n",
    "    ax.scatter(samples[:, 0], samples[:,1], marker = '.', alpha = 0.5)\n",
    "    ax.set_title(title)\n",
    "\n",
    "plt.show()"
   ]
  },
  {
   "cell_type": "code",
   "execution_count": null,
   "id": "56114dc9-1321-4a55-a7e9-4d948ad353ec",
   "metadata": {},
   "outputs": [],
   "source": []
  }
 ],
 "metadata": {
  "environment": {
   "kernel": "python3",
   "name": "tf2-gpu.2-7.m87",
   "type": "gcloud",
   "uri": "gcr.io/deeplearning-platform-release/tf2-gpu.2-7:m87"
  },
  "kernelspec": {
   "display_name": "Python 3",
   "language": "python",
   "name": "python3"
  },
  "language_info": {
   "codemirror_mode": {
    "name": "ipython",
    "version": 3
   },
   "file_extension": ".py",
   "mimetype": "text/x-python",
   "name": "python",
   "nbconvert_exporter": "python",
   "pygments_lexer": "ipython3",
   "version": "3.7.12"
  }
 },
 "nbformat": 4,
 "nbformat_minor": 5
}
