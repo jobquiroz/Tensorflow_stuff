{
 "cells": [
  {
   "cell_type": "code",
   "execution_count": 7,
   "id": "682516e7-f7e0-448c-b588-36b8dd0325e7",
   "metadata": {},
   "outputs": [],
   "source": [
    "import tensorflow as tf\n",
    "import tensorflow_probability as tfp\n",
    "tfd = tfp.distributions"
   ]
  },
  {
   "cell_type": "code",
   "execution_count": 8,
   "id": "96bc870f-6bd0-4e81-9736-275654aad538",
   "metadata": {},
   "outputs": [
    {
     "data": {
      "text/plain": [
       "<tfp.distributions.Exponential 'Exponential' batch_shape=[2, 3] event_shape=[] dtype=float32>"
      ]
     },
     "execution_count": 8,
     "metadata": {},
     "output_type": "execute_result"
    }
   ],
   "source": [
    "exp = tfd.Exponential(rate = [[1., 1.5, 0.8],[0.3, 0.4, 1.8]])\n",
    "exp"
   ]
  },
  {
   "cell_type": "code",
   "execution_count": 11,
   "id": "b5743bd8-9828-4df9-b7bc-4dc924fec111",
   "metadata": {},
   "outputs": [
    {
     "data": {
      "text/plain": [
       "<tf.Tensor: shape=(4, 2, 3), dtype=float32, numpy=\n",
       "array([[[0.06378616, 1.1543711 , 0.38331285],\n",
       "        [1.5103008 , 1.0657685 , 1.3842641 ]],\n",
       "\n",
       "       [[0.32274973, 0.50812453, 0.3622837 ],\n",
       "        [1.5724745 , 1.2363564 , 0.30070743]],\n",
       "\n",
       "       [[0.28364933, 0.17686133, 0.04853925],\n",
       "        [5.6652737 , 0.05536039, 0.4604963 ]],\n",
       "\n",
       "       [[2.6862254 , 0.6901496 , 2.2046735 ],\n",
       "        [2.673191  , 0.39295867, 0.03938442]]], dtype=float32)>"
      ]
     },
     "execution_count": 11,
     "metadata": {},
     "output_type": "execute_result"
    }
   ],
   "source": [
    "ind_exp = tfd.Independent(exp, reinterpreted_batch_ndims = 1)\n",
    "ind_exp.sample(4)"
   ]
  },
  {
   "cell_type": "code",
   "execution_count": 12,
   "id": "10c10bd5-2786-4bdf-a15c-0f0d94e0e4eb",
   "metadata": {},
   "outputs": [
    {
     "data": {
      "text/plain": [
       "TensorShape([4, 2, 3])"
      ]
     },
     "execution_count": 12,
     "metadata": {},
     "output_type": "execute_result"
    }
   ],
   "source": [
    "ind_exp.sample(4).shape"
   ]
  },
  {
   "cell_type": "markdown",
   "id": "dc8e2920-abc9-4f54-91f4-36961e2bb276",
   "metadata": {},
   "source": [
    "More complex example:"
   ]
  },
  {
   "cell_type": "code",
   "execution_count": 13,
   "id": "9e521cd5-03c3-42e8-91da-00cf1117ec16",
   "metadata": {},
   "outputs": [],
   "source": [
    "rates = [\n",
    "    [[[1., 1.5, 0.8], [0.3,0.4,1.8]]],\n",
    "    [[[0.2, 0.4, 1.4], [0.4, 1.1, 0.9]]]\n",
    "]"
   ]
  },
  {
   "cell_type": "code",
   "execution_count": 15,
   "id": "1105d4f3-60ce-48a2-92e7-27ecaf4f82d1",
   "metadata": {},
   "outputs": [
    {
     "data": {
      "text/plain": [
       "<tfp.distributions.Exponential 'Exponential' batch_shape=[2, 1, 2, 3] event_shape=[] dtype=float32>"
      ]
     },
     "execution_count": 15,
     "metadata": {},
     "output_type": "execute_result"
    }
   ],
   "source": [
    "exp = tfd.Exponential(rate = rates)  \n",
    "exp"
   ]
  },
  {
   "cell_type": "code",
   "execution_count": 19,
   "id": "437a9045-a55f-49a3-acfc-e97203bae543",
   "metadata": {},
   "outputs": [
    {
     "data": {
      "text/plain": [
       "<tfp.distributions.Independent 'IndependentExponential' batch_shape=[2, 1] event_shape=[2, 3] dtype=float32>"
      ]
     },
     "execution_count": 19,
     "metadata": {},
     "output_type": "execute_result"
    }
   ],
   "source": [
    "ind_exp = tfd.Independent(exp, reinterpreted_batch_ndims = 2)\n",
    "ind_exp"
   ]
  },
  {
   "cell_type": "code",
   "execution_count": 22,
   "id": "5ab84693-8a1a-4851-8ce6-faeabf7827b8",
   "metadata": {},
   "outputs": [
    {
     "data": {
      "text/plain": [
       "TensorShape([4, 2, 2, 1, 2, 3])"
      ]
     },
     "execution_count": 22,
     "metadata": {},
     "output_type": "execute_result"
    }
   ],
   "source": [
    "ind_exp.sample([4,2])\n",
    "\n",
    "ind_exp.sample([4,2]).shape"
   ]
  },
  {
   "cell_type": "code",
   "execution_count": 23,
   "id": "df942bfd-e24e-4aa5-95a4-cea3a77a4a28",
   "metadata": {},
   "outputs": [
    {
     "data": {
      "text/plain": [
       "<tf.Tensor: shape=(2, 1), dtype=float32, numpy=\n",
       "array([[-4.2501554],\n",
       "       [-5.3155975]], dtype=float32)>"
      ]
     },
     "execution_count": 23,
     "metadata": {},
     "output_type": "execute_result"
    }
   ],
   "source": [
    "ind_exp.log_prob(0.5)"
   ]
  },
  {
   "cell_type": "code",
   "execution_count": 25,
   "id": "b2baf701-4f59-43a4-915d-b39cccb1e33a",
   "metadata": {},
   "outputs": [
    {
     "data": {
      "text/plain": [
       "<tf.Tensor: shape=(2, 1), dtype=float32, numpy=\n",
       "array([[-4.7701554],\n",
       "       [-5.885597 ]], dtype=float32)>"
      ]
     },
     "execution_count": 25,
     "metadata": {},
     "output_type": "execute_result"
    }
   ],
   "source": [
    "ind_exp.log_prob([0.3, 0.5, 0.8])  # broadcastable to (2,1,2,3)"
   ]
  },
  {
   "cell_type": "code",
   "execution_count": 27,
   "id": "50aa9753-ff18-4cd8-8a0b-1d31f50700e4",
   "metadata": {},
   "outputs": [
    {
     "data": {
      "text/plain": [
       "TensorShape([5, 2, 1])"
      ]
     },
     "execution_count": 27,
     "metadata": {},
     "output_type": "execute_result"
    }
   ],
   "source": [
    "ind_exp.log_prob(tf.random.uniform((5,1,1,2,1)))  # broadcastable to (2,1,2,3)\n",
    "\n",
    "ind_exp.log_prob(tf.random.uniform((5,1,1,2,1))).shape"
   ]
  },
  {
   "cell_type": "code",
   "execution_count": null,
   "id": "32859e67-8929-4e89-828c-5b85f4c016c9",
   "metadata": {},
   "outputs": [],
   "source": []
  }
 ],
 "metadata": {
  "environment": {
   "kernel": "python3",
   "name": "tf2-gpu.2-7.m87",
   "type": "gcloud",
   "uri": "gcr.io/deeplearning-platform-release/tf2-gpu.2-7:m87"
  },
  "kernelspec": {
   "display_name": "Python 3",
   "language": "python",
   "name": "python3"
  },
  "language_info": {
   "codemirror_mode": {
    "name": "ipython",
    "version": 3
   },
   "file_extension": ".py",
   "mimetype": "text/x-python",
   "name": "python",
   "nbconvert_exporter": "python",
   "pygments_lexer": "ipython3",
   "version": "3.7.12"
  }
 },
 "nbformat": 4,
 "nbformat_minor": 5
}
