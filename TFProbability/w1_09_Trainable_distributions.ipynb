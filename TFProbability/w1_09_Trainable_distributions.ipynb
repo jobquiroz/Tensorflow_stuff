{
 "cells": [
  {
   "cell_type": "markdown",
   "id": "6bcb824f-c8fd-483b-9b6f-ee66501f755c",
   "metadata": {},
   "source": [
    "## Trainable distributions"
   ]
  },
  {
   "cell_type": "code",
   "execution_count": 1,
   "id": "e20e4c24-a39e-4cbd-ac56-6268bca2d312",
   "metadata": {},
   "outputs": [],
   "source": [
    "import tensorflow as tf\n",
    "import tensorflow_probability as tfp\n",
    "\n",
    "tfd = tfp.distributions"
   ]
  },
  {
   "cell_type": "markdown",
   "id": "aee0e813-c906-4a13-812b-7dd988276078",
   "metadata": {},
   "source": [
    "Creating a distribution with a variable mean.\n",
    "\n",
    "\"We want to **learn the mean** of the distribution\""
   ]
  },
  {
   "cell_type": "code",
   "execution_count": 4,
   "id": "5e949832-a666-484f-a0de-82dac48dd33b",
   "metadata": {},
   "outputs": [
    {
     "data": {
      "text/plain": [
       "<tfp.distributions.Normal 'Normal' batch_shape=[] event_shape=[] dtype=float32>"
      ]
     },
     "execution_count": 4,
     "metadata": {},
     "output_type": "execute_result"
    }
   ],
   "source": [
    "normal = tfd.Normal(loc = tf.Variable(0., name = 'loc'), scale = 1.)\n",
    "\n",
    "normal"
   ]
  },
  {
   "cell_type": "code",
   "execution_count": 5,
   "id": "ab1765ad-ef07-4c7f-b431-2224f8ffd127",
   "metadata": {},
   "outputs": [
    {
     "name": "stderr",
     "output_type": "stream",
     "text": [
      "2022-02-25 21:51:03.859193: W tensorflow/python/util/util.cc:368] Sets are not currently considered sequences, but this may change in the future, so consider avoiding using them.\n"
     ]
    },
    {
     "data": {
      "text/plain": [
       "(<tf.Variable 'loc:0' shape=() dtype=float32, numpy=0.0>,)"
      ]
     },
     "execution_count": 5,
     "metadata": {},
     "output_type": "execute_result"
    }
   ],
   "source": [
    "normal.trainable_variables"
   ]
  },
  {
   "cell_type": "markdown",
   "id": "b0ef4c5d-db85-4213-b0ee-2935de7c4848",
   "metadata": {},
   "source": [
    "The mean value is \"updatable\" according to some \"learning priciple\"."
   ]
  },
  {
   "cell_type": "markdown",
   "id": "fe3e6062-9ae8-4b4d-add9-e4424ecd6405",
   "metadata": {},
   "source": [
    "Contrast with:"
   ]
  },
  {
   "cell_type": "code",
   "execution_count": 7,
   "id": "f8674361-0cdf-4fbf-8537-563e86874ee5",
   "metadata": {},
   "outputs": [
    {
     "data": {
      "text/plain": [
       "()"
      ]
     },
     "execution_count": 7,
     "metadata": {},
     "output_type": "execute_result"
    }
   ],
   "source": [
    "tfd.Normal(loc = 0, scale = 1.).trainable_variables"
   ]
  },
  {
   "cell_type": "markdown",
   "id": "25e7aee0-951f-44b5-95b7-d2e353b8bfe4",
   "metadata": {},
   "source": [
    "In Deep Learning we use Maxihum Likelihood. Finding the parameters that maximize the likelihood of our data. \n",
    "\n",
    "In practice we minimize the negative log likelihood."
   ]
  },
  {
   "cell_type": "code",
   "execution_count": 11,
   "id": "960e0c15-8a35-4b53-b451-cca280e45ffc",
   "metadata": {},
   "outputs": [],
   "source": [
    "def nll(x_train):\n",
    "    return -tf.reduce_mean(normal.log_prob(x_train))"
   ]
  },
  {
   "cell_type": "markdown",
   "id": "20fbe13e-da99-4622-bd4f-eec68d1a39c8",
   "metadata": {},
   "source": [
    "With x_train as an array of data points."
   ]
  },
  {
   "cell_type": "code",
   "execution_count": 14,
   "id": "5b4be2a3-cafc-4dd7-9d70-8e117c111b6a",
   "metadata": {},
   "outputs": [
    {
     "data": {
      "text/plain": [
       "<tf.Tensor: shape=(1, 10), dtype=float32, numpy=\n",
       "array([[0.32460177, 0.97304165, 0.8518144 , 0.05946314, 0.14946198,\n",
       "        0.9503871 , 0.34730005, 0.3258779 , 0.46331656, 0.7390926 ]],\n",
       "      dtype=float32)>"
      ]
     },
     "execution_count": 14,
     "metadata": {},
     "output_type": "execute_result"
    }
   ],
   "source": [
    "x_train = tf.random.uniform((1,10))\n",
    "\n",
    "x_train"
   ]
  },
  {
   "cell_type": "code",
   "execution_count": 15,
   "id": "0cf6851b-6ac6-4024-a764-c1993515be2c",
   "metadata": {},
   "outputs": [
    {
     "data": {
      "text/plain": [
       "<tf.Tensor: shape=(1, 10), dtype=float32, numpy=\n",
       "array([[0.37846878, 0.24849227, 0.27755606, 0.39823762, 0.39451113,\n",
       "        0.25396562, 0.37559372, 0.37831172, 0.3583412 , 0.30359298]],\n",
       "      dtype=float32)>"
      ]
     },
     "execution_count": 15,
     "metadata": {},
     "output_type": "execute_result"
    }
   ],
   "source": [
    "normal.prob(x_train)"
   ]
  },
  {
   "cell_type": "code",
   "execution_count": 13,
   "id": "16f49c7f-30b8-4ff3-80c0-849151c23446",
   "metadata": {},
   "outputs": [
    {
     "data": {
      "text/plain": [
       "<tf.Tensor: shape=(1, 10), dtype=float32, numpy=\n",
       "array([[-0.9345689 , -0.9214542 , -1.342089  , -0.9480151 , -0.93057877,\n",
       "        -0.9352072 , -0.9217921 , -1.304842  , -0.9375844 , -0.9237805 ]],\n",
       "      dtype=float32)>"
      ]
     },
     "execution_count": 13,
     "metadata": {},
     "output_type": "execute_result"
    }
   ],
   "source": [
    "normal.log_prob(x_train)"
   ]
  },
  {
   "cell_type": "code",
   "execution_count": 16,
   "id": "a5cc3fbc-e682-4233-820e-731fc0ac11f0",
   "metadata": {},
   "outputs": [
    {
     "data": {
      "text/plain": [
       "<tf.Tensor: shape=(), dtype=float32, numpy=1.1036689>"
      ]
     },
     "execution_count": 16,
     "metadata": {},
     "output_type": "execute_result"
    }
   ],
   "source": [
    "nll(x_train)"
   ]
  },
  {
   "cell_type": "markdown",
   "id": "94c3f193-6491-465c-8a73-73f1c84fddf0",
   "metadata": {},
   "source": [
    "Training loop for learning the mean parameter from the data."
   ]
  },
  {
   "cell_type": "code",
   "execution_count": 17,
   "id": "eaced3e5-1dc8-4448-8e92-2a2e9b6c6edd",
   "metadata": {},
   "outputs": [],
   "source": [
    "@tf.function\n",
    "def get_loss_and_grads(x_train):\n",
    "    with tf.GradientTape() as tape:\n",
    "        tape.watch(normal.trainable_variables)\n",
    "        loss = nll(x_train)\n",
    "    grads = tape.gradient(loss, normal.trainable_variables)\n",
    "    return loss, grads"
   ]
  },
  {
   "cell_type": "code",
   "execution_count": 18,
   "id": "848ce310-6c82-440d-a5f0-48b4c9bb9767",
   "metadata": {},
   "outputs": [],
   "source": [
    "optimizer = tf.keras.optimizers.SGD(learning_rate = 0.05)"
   ]
  },
  {
   "cell_type": "code",
   "execution_count": 34,
   "id": "68f86ac9-ce11-4b60-bf8a-4babe270d7ad",
   "metadata": {},
   "outputs": [
    {
     "name": "stdout",
     "output_type": "stream",
     "text": [
      "0.51842487\n"
     ]
    }
   ],
   "source": [
    "num_steps = 100\n",
    "means = []\n",
    "for _ in range(num_steps):\n",
    "    loss, grads = get_loss_and_grads(x_train)\n",
    "    optimizer.apply_gradients(zip(grads, normal.trainable_variables))\n",
    "    means.append(normal.loc.numpy())\n",
    "    #print(normal.loc.numpy())\n",
    "    \n",
    "print(normal.loc.numpy())"
   ]
  },
  {
   "cell_type": "code",
   "execution_count": 35,
   "id": "86c267b7-500a-4e8f-9fa2-a09971178f98",
   "metadata": {},
   "outputs": [
    {
     "data": {
      "text/plain": [
       "[<matplotlib.lines.Line2D at 0x7f40d75a38d0>]"
      ]
     },
     "execution_count": 35,
     "metadata": {},
     "output_type": "execute_result"
    },
    {
     "data": {
      "image/png": "[encoded data removed]",
      "text/plain": [
       "<Figure size 432x288 with 1 Axes>"
      ]
     },
     "metadata": {
      "needs_background": "light"
     },
     "output_type": "display_data"
    }
   ],
   "source": [
    "import matplotlib.pyplot as plt\n",
    "\n",
    "plt.plot(means)"
   ]
  },
  {
   "cell_type": "code",
   "execution_count": 36,
   "id": "96275c18-0d82-4f6f-96dc-f420c08dd4f4",
   "metadata": {},
   "outputs": [
    {
     "data": {
      "text/plain": [
       "<tf.Tensor: shape=(), dtype=float32, numpy=0.5184357>"
      ]
     },
     "execution_count": 36,
     "metadata": {},
     "output_type": "execute_result"
    }
   ],
   "source": [
    "tf.reduce_mean(x_train)"
   ]
  },
  {
   "cell_type": "code",
   "execution_count": null,
   "id": "1ccd36f3-ea12-423a-a539-b0dff859c259",
   "metadata": {},
   "outputs": [],
   "source": []
  }
 ],
 "metadata": {
  "environment": {
   "kernel": "python3",
   "name": "tf2-gpu.2-7.m87",
   "type": "gcloud",
   "uri": "gcr.io/deeplearning-platform-release/tf2-gpu.2-7:m87"
  },
  "kernelspec": {
   "display_name": "Python 3",
   "language": "python",
   "name": "python3"
  },
  "language_info": {
   "codemirror_mode": {
    "name": "ipython",
    "version": 3
   },
   "file_extension": ".py",
   "mimetype": "text/x-python",
   "name": "python",
   "nbconvert_exporter": "python",
   "pygments_lexer": "ipython3",
   "version": "3.7.12"
  }
 },
 "nbformat": 4,
 "nbformat_minor": 5
}
