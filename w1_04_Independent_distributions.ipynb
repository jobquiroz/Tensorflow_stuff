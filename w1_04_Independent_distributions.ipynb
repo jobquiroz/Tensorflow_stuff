{
 "cells": [
  {
   "cell_type": "markdown",
   "id": "c9bcc9da-324a-4a9c-ac2e-6549eb4b4347",
   "metadata": {},
   "source": [
    "## The independent distribution\n",
    "\n",
    "Reinterpreting the batch shapes as event shapes."
   ]
  },
  {
   "cell_type": "code",
   "execution_count": 2,
   "id": "749f4b02-c4f7-432a-8d66-6b1e1c51691d",
   "metadata": {},
   "outputs": [
    {
     "data": {
      "text/plain": [
       "<tf.Tensor: shape=(), dtype=float32, numpy=-2.9388978>"
      ]
     },
     "execution_count": 2,
     "metadata": {},
     "output_type": "execute_result"
    }
   ],
   "source": [
    "import tensorflow as tf\n",
    "import matplotlib.pyplot as plt\n",
    "import tensorflow_probability as tfp\n",
    "tfd = tfp.distributions"
   ]
  },
  {
   "cell_type": "markdown",
   "id": "d5ebbd85-ffcd-40dc-b936-9fa56f1013f1",
   "metadata": {},
   "source": [
    "In the following cell we can see a multivariate normal distribution, with `batch_shape=[] event_shape=[2]`"
   ]
  },
  {
   "cell_type": "code",
   "execution_count": 4,
   "id": "f56512c3-6254-4d5c-a56c-7beaf383dbaf",
   "metadata": {},
   "outputs": [
    {
     "data": {
      "text/plain": [
       "<tf.Tensor: shape=(), dtype=float32, numpy=-2.9388978>"
      ]
     },
     "execution_count": 4,
     "metadata": {},
     "output_type": "execute_result"
    }
   ],
   "source": [
    "mv_normal = tfd.MultivariateNormalDiag(loc = [-1, 0.5], scale_diag = [1., 1.5])\n",
    "mv_normal.log_prob([-0.2, 1.8])"
   ]
  },
  {
   "cell_type": "markdown",
   "id": "97e3f92f-dfa1-4e2b-8a29-75ceaf8140f3",
   "metadata": {},
   "source": [
    "The return of log_prob is an scalar (`shape=()`)."
   ]
  },
  {
   "cell_type": "markdown",
   "id": "4a11827f-bdd3-4297-ba36-8dc673470e71",
   "metadata": {},
   "source": [
    "On the other hand we have a batched normal, with ` batch_shape=[2] event_shape=[]` "
   ]
  },
  {
   "cell_type": "code",
   "execution_count": 7,
   "id": "1c4eea0c-042b-4145-b267-228d89c9048a",
   "metadata": {},
   "outputs": [
    {
     "data": {
      "text/plain": [
       "<tf.Tensor: shape=(2,), dtype=float32, numpy=array([-1.2389386, -1.699959 ], dtype=float32)>"
      ]
     },
     "execution_count": 7,
     "metadata": {},
     "output_type": "execute_result"
    }
   ],
   "source": [
    "batched_normal = tfd.Normal(loc = [-1., 0.5], scale = [1., 1.5])   # Events are single variables, we have two different normal distributions\n",
    "batched_normal.log_prob([-0.2, 1.8])"
   ]
  },
  {
   "cell_type": "markdown",
   "id": "18f8d3ea-d212-456b-a0f7-d7e424f1cefb",
   "metadata": {},
   "source": [
    "The return of `log_prob` is of `shape=(2,)` because we have two different log probs."
   ]
  },
  {
   "cell_type": "markdown",
   "id": "396b5b60-c8dd-441d-a410-24225ff40e39",
   "metadata": {},
   "source": [
    "#### The independent distribution\n",
    "\n",
    "We can use the `Independent` distribution to transform our batched normal distribution so that is equivalent to the Multivariate normal diag distribution:"
   ]
  },
  {
   "cell_type": "code",
   "execution_count": 11,
   "id": "da85996d-0404-4e60-a522-8933f72047d9",
   "metadata": {},
   "outputs": [
    {
     "data": {
      "text/plain": [
       "<tfp.distributions.Normal 'Normal' batch_shape=[2] event_shape=[] dtype=float32>"
      ]
     },
     "execution_count": 11,
     "metadata": {},
     "output_type": "execute_result"
    }
   ],
   "source": [
    "batched_normal"
   ]
  },
  {
   "cell_type": "code",
   "execution_count": 12,
   "id": "1d489b98-fa27-43ef-ad5e-02ffeed6fca3",
   "metadata": {},
   "outputs": [
    {
     "data": {
      "text/plain": [
       "<tfp.distributions.Independent 'IndependentNormal' batch_shape=[] event_shape=[2] dtype=float32>"
      ]
     },
     "execution_count": 12,
     "metadata": {},
     "output_type": "execute_result"
    }
   ],
   "source": [
    "independent_normal = tfd.Independent(batched_normal, reinterpreted_batch_ndims = 1)   # How many dimensions should be 'absorbed' to the event space\n",
    "independent_normal"
   ]
  },
  {
   "cell_type": "code",
   "execution_count": 13,
   "id": "478cd3b2-ef3d-4f62-b05f-0bc447b56d32",
   "metadata": {},
   "outputs": [
    {
     "data": {
      "text/plain": [
       "<tf.Tensor: shape=(), dtype=float32, numpy=-2.9388976>"
      ]
     },
     "execution_count": 13,
     "metadata": {},
     "output_type": "execute_result"
    }
   ],
   "source": [
    "independent_normal.log_prob([-0.2, 1.8])"
   ]
  },
  {
   "cell_type": "markdown",
   "id": "b312adf9-56d7-4606-95c0-cc44d44eeafe",
   "metadata": {},
   "source": [
    "The `independent_normal` is now equivalent to our multivariate normal diag distribution"
   ]
  },
  {
   "cell_type": "markdown",
   "id": "b80ab0af-b774-4d8c-b846-83b44194f52a",
   "metadata": {},
   "source": [
    "**A higher dimension example**"
   ]
  },
  {
   "cell_type": "code",
   "execution_count": 14,
   "id": "701f3e69-84b0-4d11-a05b-063a90e370d0",
   "metadata": {},
   "outputs": [
    {
     "data": {
      "text/plain": [
       "<tfp.distributions.Normal 'Normal' batch_shape=[3, 2] event_shape=[] dtype=float32>"
      ]
     },
     "execution_count": 14,
     "metadata": {},
     "output_type": "execute_result"
    }
   ],
   "source": [
    "batched_normal = tfd.Normal(\n",
    "    loc=[[-1.,0.5], [0.,1.], [0.3,-0.1]],\n",
    "    scale=[[1.,1.5], [0.2, 0.8], [2.,1.]])\n",
    "\n",
    "batched_normal"
   ]
  },
  {
   "cell_type": "code",
   "execution_count": 15,
   "id": "65a81f4b-58ce-491f-aacd-a0401db735fd",
   "metadata": {},
   "outputs": [
    {
     "data": {
      "text/plain": [
       "<tfp.distributions.Independent 'IndependentNormal' batch_shape=[3] event_shape=[2] dtype=float32>"
      ]
     },
     "execution_count": 15,
     "metadata": {},
     "output_type": "execute_result"
    }
   ],
   "source": [
    "independent_normal = tfd.Independent(batched_normal, reinterpreted_batch_ndims = 1)\n",
    "independent_normal"
   ]
  },
  {
   "cell_type": "code",
   "execution_count": 16,
   "id": "467c67eb-87ea-4bdb-bb68-b37e17e96b19",
   "metadata": {},
   "outputs": [
    {
     "data": {
      "text/plain": [
       "<tfp.distributions.Independent 'IndependentNormal' batch_shape=[] event_shape=[3, 2] dtype=float32>"
      ]
     },
     "execution_count": 16,
     "metadata": {},
     "output_type": "execute_result"
    }
   ],
   "source": [
    "independent_normal = tfd.Independent(batched_normal, reinterpreted_batch_ndims = 2)\n",
    "independent_normal"
   ]
  },
  {
   "cell_type": "markdown",
   "id": "891976d6-cd56-40cd-ac9c-9093ffaf6513",
   "metadata": {},
   "source": [
    "The default for `reinterpreted_batch_ndims` is None, ant it takes all the arguments minus 1 of the `batch_shape` to the `event_shape`"
   ]
  },
  {
   "cell_type": "code",
   "execution_count": null,
   "id": "c964803f-5d83-4962-82b8-10b9a4a4b05f",
   "metadata": {},
   "outputs": [],
   "source": []
  }
 ],
 "metadata": {
  "environment": {
   "kernel": "python3",
   "name": "tf2-gpu.2-7.m87",
   "type": "gcloud",
   "uri": "gcr.io/deeplearning-platform-release/tf2-gpu.2-7:m87"
  },
  "kernelspec": {
   "display_name": "Python 3",
   "language": "python",
   "name": "python3"
  },
  "language_info": {
   "codemirror_mode": {
    "name": "ipython",
    "version": 3
   },
   "file_extension": ".py",
   "mimetype": "text/x-python",
   "name": "python",
   "nbconvert_exporter": "python",
   "pygments_lexer": "ipython3",
   "version": "3.7.12"
  }
 },
 "nbformat": 4,
 "nbformat_minor": 5
}
